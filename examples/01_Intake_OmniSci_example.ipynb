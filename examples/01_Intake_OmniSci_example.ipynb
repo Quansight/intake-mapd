{
 "cells": [
  {
   "cell_type": "markdown",
   "metadata": {},
   "source": [
    "# Demonstration of intake-omnisci\n",
    "\n",
    "This is an [intake](https://intake.readthedocs.io/en/latest/) plugin for OmniSci databases. It allows the user to specify data sources   \n",
    "via human-readable YAML catalogs, and then transparently load them and begin analyzing data. \n",
    "  \n",
    "The catalog used in this notebook uses a URI to an OmniSci Database and SQL expressions.  \n",
    "\n",
    "We begin by loading the [catalog](./catalog.yml) file:"
   ]
  },
  {
   "cell_type": "code",
   "execution_count": null,
   "metadata": {},
   "outputs": [],
   "source": [
    "import intake\n",
    "catalog = intake.open_catalog('catalog.yml')"
   ]
  },
  {
   "cell_type": "markdown",
   "metadata": {},
   "source": [
    "### Inspecting the catalog\n",
    "\n",
    "We can interactively inspect the items in the catalog:"
   ]
  },
  {
   "cell_type": "code",
   "execution_count": null,
   "metadata": {},
   "outputs": [],
   "source": [
    "list(catalog)"
   ]
  },
  {
   "cell_type": "markdown",
   "metadata": {},
   "source": [
    "We can also display the individual catalog items to get more information:"
   ]
  },
  {
   "cell_type": "code",
   "execution_count": null,
   "metadata": {},
   "outputs": [],
   "source": [
    "catalog.flights"
   ]
  },
  {
   "cell_type": "markdown",
   "metadata": {},
   "source": [
    "With the catalog loaded, we can read full datasets into memory."
   ]
  },
  {
   "cell_type": "code",
   "execution_count": null,
   "metadata": {},
   "outputs": [],
   "source": [
    "fault_df = catalog.faults.read()"
   ]
  },
  {
   "cell_type": "code",
   "execution_count": null,
   "metadata": {},
   "outputs": [],
   "source": [
    "fault_df.head()"
   ]
  },
  {
   "cell_type": "markdown",
   "metadata": {},
   "source": [
    "### Catalog source\n",
    "\n",
    "This package also includes an intake source that itself provides a catalog.\n",
    "This is used to generate a data source for each table in a database:"
   ]
  },
  {
   "cell_type": "code",
   "execution_count": null,
   "metadata": {},
   "outputs": [],
   "source": [
    "tables = catalog.metis\n",
    "list(tables)"
   ]
  },
  {
   "cell_type": "markdown",
   "metadata": {},
   "source": [
    "### Lazy evaluation of expressions\n",
    "\n",
    "Loading a table into memory is fine for smaller datasets, but it doesn't scale well up to larger datasets.\n",
    "We would like to be able to build queries from an intake source that allows them to execute lazily.\n",
    "\n",
    "In order to accomplish this, we have provided functionality to get an ibis expresison from a source:"
   ]
  },
  {
   "cell_type": "code",
   "execution_count": null,
   "metadata": {},
   "outputs": [],
   "source": [
    "ibis_expr = tables.ca_roads_tiger.to_ibis()\n",
    "ibis_expr.head().execute()"
   ]
  }
 ],
 "metadata": {
  "kernelspec": {
   "display_name": "Python 3",
   "language": "python",
   "name": "python3"
  },
  "language_info": {
   "codemirror_mode": {
    "name": "ipython",
    "version": 3
   },
   "file_extension": ".py",
   "mimetype": "text/x-python",
   "name": "python",
   "nbconvert_exporter": "python",
   "pygments_lexer": "ipython3",
   "version": "3.7.8"
  }
 },
 "nbformat": 4,
 "nbformat_minor": 4
}
